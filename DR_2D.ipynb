{
 "cells": [
  {
   "cell_type": "code",
   "execution_count": 72,
   "id": "a1d0309e-1ff8-4bb4-bb23-4db80a4cd384",
   "metadata": {},
   "outputs": [],
   "source": [
    "import os\n",
    "os.environ['TF_CPP_MIN_LOG_LEVEL']='3'# Get rid of warning messages and CUDA loadings\n",
    "import scipy\n",
    "# Import Packages \n",
    "import numpy as np\n",
    "import tensorflow as tf\n",
    "import matplotlib.pyplot as plt\n",
    "import scipy.io\n",
    "import matplotlib.animation as animation\n",
    "from matplotlib import cm\n",
    "import time"
   ]
  },
  {
   "cell_type": "code",
   "execution_count": 73,
   "id": "e46829b6-db3c-4c27-92a8-b78418ef3012",
   "metadata": {},
   "outputs": [],
   "source": [
    "Adam_Epochs = 100 # Number of epochs of Adam optimization\n",
    "q = 500 # Number of RK time steps (max 500)\n",
    "noise = 0.01 # number of standard deviations of output noise\n",
    "D=1\n",
    "r=0.5"
   ]
  },
  {
   "cell_type": "code",
   "execution_count": 74,
   "id": "a3b452ca-0789-43a5-844c-7a81ee0f88d8",
   "metadata": {},
   "outputs": [
    {
     "data": {
      "text/plain": [
       "<matplotlib.colorbar.Colorbar at 0x7ffe246f75e0>"
      ]
     },
     "execution_count": 74,
     "metadata": {},
     "output_type": "execute_result"
    },
    {
     "data": {
      "image/png": "[encoded data removed]",
      "text/plain": [
       "<Figure size 432x288 with 2 Axes>"
      ]
     },
     "metadata": {
      "needs_background": "light"
     },
     "output_type": "display_data"
    }
   ],
   "source": [
    "#load #/home/jingyi49/GliomaSolver/data/2D-complex/phi2D.mat\n",
    "import scipy.io as sio\n",
    "data_phi = sio.loadmat('/home/jingyi49/GliomaSolver/data/2D-complex/phi2D.mat')\n",
    "phi = data_phi['phi']\n",
    "#转为numpy array\n",
    "phi = np.array(phi)\n",
    "#reshape phi to [50,50]\n",
    "phi=phi[130:181,30:81]\n",
    "#plot phi\n",
    "#plot phi in gray scale\n",
    "plt.imshow(phi)\n",
    "plt.colorbar()"
   ]
  },
  {
   "cell_type": "code",
   "execution_count": 75,
   "id": "ab131469-11a1-4c1b-bb44-99bd66911ec2",
   "metadata": {},
   "outputs": [
    {
     "data": {
      "text/plain": [
       "(51, 51, 501)"
      ]
     },
     "execution_count": 75,
     "metadata": {},
     "output_type": "execute_result"
    }
   ],
   "source": [
    "#load data\n",
    "path='/home/jingyi49/data/Fisher_2D_2Eq_Nonsymmetric.mat'\n",
    "data=scipy.io.loadmat(path)\n",
    "t = data['t'].flatten()[:,None]\n",
    "x = data['x'][:,0].flatten()[:,None]\n",
    "y = data['x'][:,1].flatten()[:,None]\n",
    "#create a time/space grid\n",
    "X, T = np.meshgrid(x,t)\n",
    "Y, T = np.meshgrid(y,t)\n",
    "#flatten X and T\n",
    "xt = np.hstack((X.flatten()[:,None], T.flatten()[:,None])) #flatten X and T\n",
    "yt = np.hstack((Y.flatten()[:,None], T.flatten()[:,None])) #flatten Y and T\n",
    "xyt = np.array([xt[:,0], yt[:,0], xt[:,1]]).T # all (x,y,t) combos in an array (shape = (x*y*t, 3))\n",
    "Exact_u=np.real(data['u1'])\n",
    "Exact_u.shape"
   ]
  },
  {
   "cell_type": "code",
   "execution_count": 76,
   "id": "9cdf1ac5-6c39-42ed-9203-5deec9674a8c",
   "metadata": {},
   "outputs": [
    {
     "data": {
      "text/plain": [
       "<matplotlib.image.AxesImage at 0x7ffe2467ad30>"
      ]
     },
     "execution_count": 76,
     "metadata": {},
     "output_type": "execute_result"
    },
    {
     "data": {
      "image/png": "[encoded data removed]",
      "text/plain": [
       "<Figure size 432x288 with 1 Axes>"
      ]
     },
     "metadata": {
      "needs_background": "light"
     },
     "output_type": "display_data"
    }
   ],
   "source": [
    "plt.imshow(Exact_u[:,:,-1])"
   ]
  },
  {
   "cell_type": "code",
   "execution_count": 77,
   "id": "d6cc5a45-3177-4ed1-ae24-7ed71a0038d6",
   "metadata": {},
   "outputs": [],
   "source": [
    "u_star = np.array([])\n",
    "for i in range(len(t)):\n",
    "    u_star = np.append(u_star, Exact_u[:,:,i].T.flatten())\n",
    "u_star = u_star.reshape(len(u_star),1) # values of the solution corresponding to the inputs of xyt"
   ]
  },
  {
   "cell_type": "code",
   "execution_count": 78,
   "id": "21ee24c5-3379-4f73-8cb3-f4570d86fef4",
   "metadata": {},
   "outputs": [
    {
     "data": {
      "text/plain": [
       "((1303101, 1), (1303101, 3))"
      ]
     },
     "execution_count": 78,
     "metadata": {},
     "output_type": "execute_result"
    }
   ],
   "source": [
    "u_star.shape,xyt.shape #51*51*501"
   ]
  },
  {
   "cell_type": "code",
   "execution_count": 79,
   "id": "81a7c4d0-f4eb-40e9-a991-7364b112b60a",
   "metadata": {},
   "outputs": [],
   "source": [
    "#define the model structure\n",
    "Inputs=tf.keras.Input(shape=(2,))#1D input\n",
    "layer_number=100\n",
    "Dense_1=tf.keras.layers.Dense(layer_number,activation='tanh',kernel_initializer=\"glorot_normal\")(Inputs)\n",
    "Dense_2=tf.keras.layers.Dense(layer_number,activation='tanh',kernel_initializer=\"glorot_normal\")(Dense_1)\n",
    "Dense_3=tf.keras.layers.Dense(layer_number,activation='tanh',kernel_initializer=\"glorot_normal\")(Dense_2)\n",
    "Dense_4=tf.keras.layers.Dense(layer_number,activation='tanh',kernel_initializer=\"glorot_normal\")(Dense_3)\n",
    "#output layer dimension is q\n",
    "Predictions=tf.keras.layers.Dense(q)(Dense_4)\n",
    "model_predict=tf.keras.Model(inputs=Inputs,outputs=Predictions)"
   ]
  },
  {
   "cell_type": "code",
   "execution_count": 80,
   "id": "6bf1129c-3d0f-4c6e-a740-259180d96ea0",
   "metadata": {},
   "outputs": [],
   "source": [
    "#parameter for initial condition\n",
    "IRK_weights=np.float32(np.loadtxt('/home/jingyi49/data/Butcher_IRK500.txt',ndmin=2))\n",
    "IRK_times = IRK_weights[q**2+q:]\n",
    "IRK_weights = IRK_weights[:q**2+q].reshape((q+1,q))\n",
    "IRK_alpha = tf.constant(IRK_weights[:-1,:], dtype='float32')\n",
    "IRK_beta = tf.constant(IRK_weights[-1:,:], dtype='float32')"
   ]
  },
  {
   "cell_type": "code",
   "execution_count": 81,
   "id": "e109998f-763e-41a3-9e9c-2ba5e64a1dc9",
   "metadata": {},
   "outputs": [
    {
     "data": {
      "text/plain": [
       "(1303101, 3)"
      ]
     },
     "execution_count": 81,
     "metadata": {},
     "output_type": "execute_result"
    }
   ],
   "source": [
    "xyt.shape"
   ]
  },
  {
   "cell_type": "code",
   "execution_count": 82,
   "id": "43ee50ef-ed04-469f-bce1-665f31925063",
   "metadata": {},
   "outputs": [],
   "source": [
    "#inputs = xyt[:int(np.sqrt(x.shape[0]))*int(np.sqrt(y.shape[0])),0:2]\n",
    "inputs = xyt[:int(np.sqrt(x.shape[0]))*int(np.sqrt(y.shape[0])),0:2]\n",
    "outputs_t0 = u_star[:int(np.sqrt(x.shape[0]))*int(np.sqrt(y.shape[0])),0] # Initial snapshot solution data\n",
    "outputs_t1 = u_star[-int(np.sqrt(x.shape[0]))*int(np.sqrt(y.shape[0])):,0] # Final snapshot solution data\n",
    "outputs_t0_noise = outputs_t0 + noise*np.std(outputs_t0)*np.random.randn(outputs_t0.shape[0]) # Initial snapshot solution data with noise\n",
    "outputs_t1_noise = outputs_t1 + noise*np.std(outputs_t1)*np.random.randn(outputs_t1.shape[0]) # Final snapshot solution data with noise\n",
    "dt=(t[-1]-t[0])[0]\n",
    "#normalize the data\n",
    "input_min=inputs.min(0)#minimum of each column\n",
    "input_max=inputs.max(0)#maximum of each column\n",
    "inputs_norm=2*(inputs-input_min)/(input_max-input_min)-1.0#normalize the inputs\n",
    "\n",
    "#define tf,variables for neural network\n",
    "inputs_var = tf.Variable(inputs_norm, name='inputs_var')\n",
    "dummy=tf.ones((inputs_var.shape[0],q),dtype=np.float32)"
   ]
  },
  {
   "cell_type": "code",
   "execution_count": 83,
   "id": "ce0694bd-4495-48fa-9220-97ec513add64",
   "metadata": {},
   "outputs": [
    {
     "data": {
      "text/plain": [
       "(TensorShape([2601, 500]), (2601, 1))"
      ]
     },
     "execution_count": 83,
     "metadata": {},
     "output_type": "execute_result"
    }
   ],
   "source": [
    "#copy the phi to q times\n",
    "phi=phi.reshape(inputs_var.shape[0],1)\n",
    "#copy the phi m times using append\n",
    "#phi=tf.concat([phi]*q,axis=1)\n",
    "dummy.shape,phi.shape"
   ]
  },
  {
   "cell_type": "code",
   "execution_count": 84,
   "id": "b55e97d1-c498-4291-8e88-3cc5bb4bede7",
   "metadata": {},
   "outputs": [],
   "source": [
    "phi_tf = tf.constant(phi, dtype=tf.float32)"
   ]
  },
  {
   "cell_type": "code",
   "execution_count": 88,
   "id": "748f931f-08e8-436a-b494-81e7ced31f54",
   "metadata": {},
   "outputs": [],
   "source": [
    "##define solution of the PDE\n",
    "class PDEsolution(tf.keras.layers.Layer):\n",
    "    def __init__(self, D_var, r_var):\n",
    "        super(PDEsolution, self).__init__()\n",
    "        self.D_var = tf.Variable(np.array([D_var]))\n",
    "        self.r_var = tf.Variable(np.array([r_var]))\n",
    "\n",
    "    def loss(self,pred):   \n",
    "        with tf.GradientTape(persistent=True) as tape:\n",
    "                tape.watch(inputs_var)\n",
    "                tape.watch(dummy)\n",
    "                k = model_predict(inputs_var)\n",
    "                g_U = tape.gradient(k, inputs_var, output_gradients=dummy) #U 关于x和y的导数\n",
    "                g_U = tf.cast(g_U, dtype=tf.float32) \n",
    "                g_Ux = g_U[:,0]*phi_tf #U 关于x的导数 edit\n",
    "                g_Uy = g_U[:,1]*phi_tf  #U 关于y的导数 edit\n",
    "                k_x = tape.gradient(g_Ux, dummy)\n",
    "                k_y = tape.gradient(g_Uy, dummy)\n",
    "                \n",
    "                g_Ux_U=tape.gradient(k_x,inputs_var,output_gradients=dummy) #Ux 关于x和y的导数\n",
    "                g_Uy_U=tape.gradient(k_y,inputs_var,output_gradients=dummy) #Uy 关于x和y的导数\n",
    "                g_UxUx = g_Ux_U[:,0] #Ux 关于x的导数\n",
    "                g_UyUy = g_Uy_U[:,1] #Uy 关于y的导数\n",
    "                k_xx = tape.gradient(g_UxUx, dummy) #U 关于x的二阶导数\n",
    "                k_yy = tape.gradient(g_UyUy, dummy) #U 关于y的二阶导数\n",
    "        scale_x = 2/(input_max[0]-input_min[0]) # Define scale factors and scale derivatives\n",
    "        scale_y = 2/(input_max[1]-input_min[1]) # Define scale factors and scale derivatives,因为前面进行了归一化\n",
    "        k_x = k_x*scale_x\n",
    "        k_y = k_y*scale_y\n",
    "        k_xx = k_xx*scale_x**2\n",
    "        k_yy = k_yy*scale_y**2\n",
    "        \n",
    "    \n",
    "    \n",
    "        #implement the PDE\n",
    "        D = tf.cast(tf.exp(self.D_var), tf.float32)\n",
    "        r = tf.cast(tf.exp(self.r_var), tf.float32)\n",
    "        u = k\n",
    "        u_x = k_x\n",
    "        u_y = k_y\n",
    "        u_xx = k_xx\n",
    "        u_yy = k_yy\n",
    "        #change it to float32\n",
    "        u_xx = tf.cast(u_xx, tf.float32)\n",
    "        u_yy = tf.cast(u_yy, tf.float32)\n",
    "        u= tf.cast(u, tf.float32)\n",
    "\n",
    "        #u_t is float32 do not match the u_xx\n",
    "        u_t_right = tf.cast(D*(u_xx+u_yy) + r*phi_tf*u*(1.0-u) , tf.float32)\n",
    "\n",
    "        # condition for the initial condition\n",
    "        dt = (t[-1] - t[0])[0] #total time\n",
    "        U0_pred=k-dt*tf.matmul(u_t_right,tf.transpose(IRK_alpha)) #edit \n",
    "        U1_pred=k+dt*tf.matmul(u_t_right,tf.transpose(IRK_beta-IRK_alpha))  #plus\n",
    "        # Format exact solutions for loss\n",
    "        U0 = q*[outputs_t0_noise]\n",
    "        U0 = tf.stack(U0, axis=1)   \n",
    "        U0 = tf.cast(U0, tf.float32)\n",
    "        U1 = q*[outputs_t1_noise]\n",
    "        U1 = tf.stack(U1, axis=1)\n",
    "        U1 = tf.cast(U1, tf.float32)\n",
    "\n",
    "        # Calculate loss\n",
    "        MSE = tf.reduce_mean(tf.square(U0*phi_tf - U0_pred)) + tf.reduce_mean(tf.square(U1*phi_tf - U1_pred))\n",
    "        return MSE\n",
    "\n",
    "    \n",
    "    def call(self,pred):              #call the loss function\n",
    "        self.add_loss(self.loss(pred))    #add loss to the model\n",
    "        return pred       "
   ]
  },
  {
   "cell_type": "code",
   "execution_count": 89,
   "id": "d6046061-7c9e-47d2-a108-7c3a2411eb06",
   "metadata": {},
   "outputs": [],
   "source": [
    "D_guess = np.log(D)\n",
    "r_guess = np.log(r)\n",
    "My_loss=PDEsolution(D_guess,r_guess)(Predictions)\n",
    "# Create trainable model with custom loss function"
   ]
  },
  {
   "cell_type": "code",
   "execution_count": 90,
   "id": "b73e2edc-cd22-45c7-a243-03074c1e6834",
   "metadata": {},
   "outputs": [],
   "source": [
    "model_loss = tf.keras.Model(inputs=Inputs, outputs=My_loss)\n",
    "model_loss.compile(optimizer=tf.keras.optimizers.Adam())\n",
    "# Execute Adam optimization\n",
    "inputs_var=tf.convert_to_tensor(inputs_var)\n",
    "history=model_loss.fit(inputs_var,None, epochs=Adam_Epochs,verbose=0)  #None means no label"
   ]
  },
  {
   "cell_type": "code",
   "execution_count": 91,
   "id": "46c45a82-61ef-402a-9d31-2756c3233a00",
   "metadata": {},
   "outputs": [
    {
     "data": {
      "text/plain": [
       "Text(0, 0.5, 'Loss')"
      ]
     },
     "execution_count": 91,
     "metadata": {},
     "output_type": "execute_result"
    },
    {
     "data": {
      "image/png": "[encoded data removed]",
      "text/plain": [
       "<Figure size 432x288 with 1 Axes>"
      ]
     },
     "metadata": {
      "needs_background": "light"
     },
     "output_type": "display_data"
    }
   ],
   "source": [
    "# Plot loss history\n",
    "plt.figure()\n",
    "plt.plot(history.history['loss'])\n",
    "plt.yscale('log')\n",
    "plt.xlabel('Epochs')\n",
    "plt.ylabel('Loss')"
   ]
  },
  {
   "cell_type": "code",
   "execution_count": 92,
   "id": "f8d9bdff-9304-4895-9b3f-a50af43e632f",
   "metadata": {},
   "outputs": [
    {
     "data": {
      "text/plain": [
       "<matplotlib.colorbar.Colorbar at 0x7ffdc04a2fd0>"
      ]
     },
     "execution_count": 92,
     "metadata": {},
     "output_type": "execute_result"
    },
    {
     "data": {
      "image/png": "[encoded data removed]",
      "text/plain": [
       "<Figure size 432x288 with 2 Axes>"
      ]
     },
     "metadata": {
      "needs_background": "light"
     },
     "output_type": "display_data"
    }
   ],
   "source": [
    "k_pred=model_predict(inputs_norm)\n",
    "k_pred=k_pred.numpy().reshape(int(np.sqrt(x.shape[0])),int(np.sqrt(y.shape[0])),q)\n",
    "plt.imshow(k_pred[:,:,-1])\n",
    "plt.colorbar()"
   ]
  },
  {
   "cell_type": "code",
   "execution_count": 45,
   "id": "4b3cd23b-288e-4d01-82a3-c62698b96f0b",
   "metadata": {},
   "outputs": [
    {
     "name": "stderr",
     "output_type": "stream",
     "text": [
      "MovieWriter Pillow unavailable; using Pillow instead.\n"
     ]
    },
    {
     "data": {
      "image/png": "[encoded data removed]",
      "text/plain": [
       "<Figure size 648x252 with 4 Axes>"
      ]
     },
     "metadata": {
      "needs_background": "light"
     },
     "output_type": "display_data"
    }
   ],
   "source": [
    "#plot the initial condition\n",
    "k_pred=model_predict(inputs_norm)\n",
    "k_pred=k_pred.numpy().reshape(int(np.sqrt(x.shape[0])),int(np.sqrt(y.shape[0])),q)\n",
    "outputs_t0=outputs_t0.reshape(int(np.sqrt(x.shape[0])),int(np.sqrt(y.shape[0])),1)\n",
    "outputs_t1=outputs_t1.reshape(int(np.sqrt(x.shape[0])),int(np.sqrt(y.shape[0])),1)\n",
    "U_pred =np.dstack((outputs_t0, k_pred, outputs_t1))\n",
    "\n",
    "\n",
    "# Create predicted and exact solutions with same time stepping for comparison\n",
    "uniform_times = t\n",
    "IRK_times = IRK_times*(t[-1]-t[0])+t[0]\n",
    "num_plot_times = 2*q\n",
    "dt_plot = dt/num_plot_times\n",
    "t_plot = np.linspace(uniform_times[0], uniform_times[-1], num_plot_times)\n",
    "Exact_plot = np.zeros((Exact_u.shape[0], Exact_u.shape[1], num_plot_times))\n",
    "U_pred_plot = np.zeros((U_pred.shape[0], U_pred.shape[1], num_plot_times))\n",
    "\n",
    "# FILEPATH: /Users/jinyili/Downloads/DR_2D.ipynb\n",
    "for t in range(num_plot_times-1):\n",
    "    i = 0\n",
    "    while uniform_times[i] < t_plot[t][0]:\n",
    "        i = i + 1\n",
    "    j = 0\n",
    "    while IRK_times[j] < t_plot[t][0]:\n",
    "          j = j + 1\n",
    "    Exact_plot[:,:,t] = Exact_u[:,:,i]\n",
    "    U_pred_plot[:,:,t] = U_pred[:,:,j]\n",
    "Exact_plot[:,:,-1] = Exact_u[:,:,-1]\n",
    "\n",
    "# Create animation\n",
    "fig, axs = plt.subplots(1, 2, constrained_layout=True)\n",
    "fig.set_figheight(3.5)\n",
    "fig.set_figwidth(9)\n",
    "\n",
    "CS1 = axs[0].imshow(U_pred_plot[:,:,0], vmin = 0.0, vmax = 1.0, cmap=cm.nipy_spectral)\n",
    "fig.colorbar(CS1, ax=axs[0])\n",
    "\n",
    "CS2 = axs[1].imshow(Exact_plot[:,:,0].T, vmin = 0.0, vmax = 1.0, cmap=cm.nipy_spectral)\n",
    "fig.colorbar(CS2, ax=axs[1])\n",
    "\n",
    "def animate(i):\n",
    "\n",
    "        axs[0].clear()\n",
    "        axs[0].imshow(U_pred_plot[:,:,i], vmin = 0.0, vmax = 1.0, cmap=cm.nipy_spectral)\n",
    "        axs[0].set_title(\"Predicted Cell Density - Time: \" + str(round(t_plot[i][0],2)))\n",
    "\n",
    "        axs[1].clear()\n",
    "        axs[1].imshow(Exact_plot[:,:,i].T, vmin = 0.0, vmax = 1.0, cmap=cm.nipy_spectral)\n",
    "        axs[1].set_title(\"Actual Cell Density - Time: \" + str(round(t_plot[i][0],2)))\n",
    "interval = 1e+3*0.01 # 2nd number is the seconds\n",
    "ani = animation.FuncAnimation(fig, animate, num_plot_times, interval=interval, blit=False)\n",
    "ani.save('Fisher_2D_2Eq_Nonsymmetric.gif', writer='Pillow', fps=1)\n",
    "plt.show()"
   ]
  }
 ],
 "metadata": {
  "kernelspec": {
   "display_name": "Python [conda env:opence-v1.5.1]",
   "language": "python",
   "name": "conda-env-opence-v1.5.1-py"
  },
  "language_info": {
   "codemirror_mode": {
    "name": "ipython",
    "version": 3
   },
   "file_extension": ".py",
   "mimetype": "text/x-python",
   "name": "python",
   "nbconvert_exporter": "python",
   "pygments_lexer": "ipython3",
   "version": "3.9.12"
  }
 },
 "nbformat": 4,
 "nbformat_minor": 5
}
